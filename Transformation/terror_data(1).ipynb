{
 "cells": [
  {
   "cell_type": "code",
   "execution_count": 3,
   "metadata": {},
   "outputs": [],
   "source": [
    "import pandas as pd\n",
    "import json\n",
    "import io\n",
    "from pandas.io.json import json_normalize \n",
    "from pprint import pprint"
   ]
  },
  {
   "cell_type": "code",
   "execution_count": 4,
   "metadata": {},
   "outputs": [],
   "source": [
    "with io.open ('../terrorist-incidents-dataset-2015-2018/dataset.json', encoding = 'utf8') as f: #open file with json and 'normalize' the data\n",
    "    data = json.load(f)\n",
    "#pprint(data) #to check the different columns for the data"
   ]
  },
  {
   "cell_type": "code",
   "execution_count": 5,
   "metadata": {},
   "outputs": [
    {
     "data": {
      "text/html": [
       "<div>\n",
       "<style scoped>\n",
       "    .dataframe tbody tr th:only-of-type {\n",
       "        vertical-align: middle;\n",
       "    }\n",
       "\n",
       "    .dataframe tbody tr th {\n",
       "        vertical-align: top;\n",
       "    }\n",
       "\n",
       "    .dataframe thead th {\n",
       "        text-align: right;\n",
       "    }\n",
       "</style>\n",
       "<table border=\"1\" class=\"dataframe\">\n",
       "  <thead>\n",
       "    <tr style=\"text-align: right;\">\n",
       "      <th></th>\n",
       "      <th>date</th>\n",
       "      <th>dead</th>\n",
       "      <th>details</th>\n",
       "      <th>injured</th>\n",
       "      <th>location</th>\n",
       "      <th>partOf</th>\n",
       "      <th>perpetrator</th>\n",
       "      <th>type</th>\n",
       "      <th>linkTitle</th>\n",
       "    </tr>\n",
       "  </thead>\n",
       "  <tbody>\n",
       "    <tr>\n",
       "      <th>0</th>\n",
       "      <td>1</td>\n",
       "      <td>15–25+</td>\n",
       "      <td>A group of militants attacked a crowded bus tr...</td>\n",
       "      <td>10+</td>\n",
       "      <td>Waza Region, Cameroon</td>\n",
       "      <td>Boko Haram insurgency</td>\n",
       "      <td>Boko Haram (suspected)</td>\n",
       "      <td>Shooting</td>\n",
       "      <td>January 2015</td>\n",
       "    </tr>\n",
       "    <tr>\n",
       "      <th>1</th>\n",
       "      <td>3</td>\n",
       "      <td>1</td>\n",
       "      <td>An undetermined number of Bangsamoro Islamic F...</td>\n",
       "      <td>3</td>\n",
       "      <td>Maguindanao and Sultan Kudarat, Philippines</td>\n",
       "      <td>Moro conflict</td>\n",
       "      <td>BIFF</td>\n",
       "      <td>Attack</td>\n",
       "      <td>January 2015</td>\n",
       "    </tr>\n",
       "    <tr>\n",
       "      <th>2</th>\n",
       "      <td>3</td>\n",
       "      <td>3</td>\n",
       "      <td>Shooting in Basra Governorate left 5 people de...</td>\n",
       "      <td>2</td>\n",
       "      <td>Basra Governorate, Iraq</td>\n",
       "      <td>Iraqi Civil War</td>\n",
       "      <td>Unknown</td>\n",
       "      <td>Shooting</td>\n",
       "      <td>January 2015</td>\n",
       "    </tr>\n",
       "  </tbody>\n",
       "</table>\n",
       "</div>"
      ],
      "text/plain": [
       "  date    dead                                            details injured  \\\n",
       "0    1  15–25+  A group of militants attacked a crowded bus tr...     10+   \n",
       "1    3       1  An undetermined number of Bangsamoro Islamic F...       3   \n",
       "2    3       3  Shooting in Basra Governorate left 5 people de...       2   \n",
       "\n",
       "                                      location                 partOf  \\\n",
       "0                        Waza Region, Cameroon  Boko Haram insurgency   \n",
       "1  Maguindanao and Sultan Kudarat, Philippines          Moro conflict   \n",
       "2                      Basra Governorate, Iraq        Iraqi Civil War   \n",
       "\n",
       "              perpetrator      type     linkTitle  \n",
       "0  Boko Haram (suspected)  Shooting  January 2015  \n",
       "1                    BIFF    Attack  January 2015  \n",
       "2                 Unknown  Shooting  January 2015  "
      ]
     },
     "execution_count": 5,
     "metadata": {},
     "output_type": "execute_result"
    }
   ],
   "source": [
    "df = json_normalize(data, 'dataA', 'linkTitle') #the order of calling from the json file matters, to get the month and year 'linkTitle' was called before 'dataA'\n",
    "df.head(3)"
   ]
  },
  {
   "cell_type": "code",
   "execution_count": 7,
   "metadata": {},
   "outputs": [],
   "source": [
    "des = df.location.str.split(',').tolist() #specify where to split the string\n",
    " #check the list of locations"
   ]
  },
  {
   "cell_type": "code",
   "execution_count": 8,
   "metadata": {},
   "outputs": [
    {
     "data": {
      "text/html": [
       "<div>\n",
       "<style scoped>\n",
       "    .dataframe tbody tr th:only-of-type {\n",
       "        vertical-align: middle;\n",
       "    }\n",
       "\n",
       "    .dataframe tbody tr th {\n",
       "        vertical-align: top;\n",
       "    }\n",
       "\n",
       "    .dataframe thead th {\n",
       "        text-align: right;\n",
       "    }\n",
       "</style>\n",
       "<table border=\"1\" class=\"dataframe\">\n",
       "  <thead>\n",
       "    <tr style=\"text-align: right;\">\n",
       "      <th></th>\n",
       "      <th>0</th>\n",
       "    </tr>\n",
       "  </thead>\n",
       "  <tbody>\n",
       "    <tr>\n",
       "      <th>0</th>\n",
       "      <td>Cameroon</td>\n",
       "    </tr>\n",
       "    <tr>\n",
       "      <th>1</th>\n",
       "      <td>Philippines</td>\n",
       "    </tr>\n",
       "    <tr>\n",
       "      <th>2</th>\n",
       "      <td>Iraq</td>\n",
       "    </tr>\n",
       "  </tbody>\n",
       "</table>\n",
       "</div>"
      ],
      "text/plain": [
       "              0\n",
       "0      Cameroon\n",
       "1   Philippines\n",
       "2          Iraq"
      ]
     },
     "execution_count": 8,
     "metadata": {},
     "output_type": "execute_result"
    }
   ],
   "source": [
    "country = [] #append string in the list country with country using a for loop\n",
    "for i in des:\n",
    "    country.append(i[-1])\n",
    "country1 = pd.DataFrame(country) # have it in a data frame to plug into the 'df' data frame\n",
    "country1.head(3)"
   ]
  },
  {
   "cell_type": "code",
   "execution_count": 9,
   "metadata": {},
   "outputs": [
    {
     "data": {
      "text/html": [
       "<div>\n",
       "<style scoped>\n",
       "    .dataframe tbody tr th:only-of-type {\n",
       "        vertical-align: middle;\n",
       "    }\n",
       "\n",
       "    .dataframe tbody tr th {\n",
       "        vertical-align: top;\n",
       "    }\n",
       "\n",
       "    .dataframe thead th {\n",
       "        text-align: right;\n",
       "    }\n",
       "</style>\n",
       "<table border=\"1\" class=\"dataframe\">\n",
       "  <thead>\n",
       "    <tr style=\"text-align: right;\">\n",
       "      <th></th>\n",
       "      <th>date</th>\n",
       "      <th>dead</th>\n",
       "      <th>details</th>\n",
       "      <th>injured</th>\n",
       "      <th>partOf</th>\n",
       "      <th>perpetrator</th>\n",
       "      <th>type</th>\n",
       "      <th>linkTitle</th>\n",
       "      <th>Country</th>\n",
       "    </tr>\n",
       "  </thead>\n",
       "  <tbody>\n",
       "    <tr>\n",
       "      <th>0</th>\n",
       "      <td>1</td>\n",
       "      <td>15–25+</td>\n",
       "      <td>A group of militants attacked a crowded bus tr...</td>\n",
       "      <td>10+</td>\n",
       "      <td>Boko Haram insurgency</td>\n",
       "      <td>Boko Haram (suspected)</td>\n",
       "      <td>Shooting</td>\n",
       "      <td>January 2015</td>\n",
       "      <td>Cameroon</td>\n",
       "    </tr>\n",
       "    <tr>\n",
       "      <th>1</th>\n",
       "      <td>3</td>\n",
       "      <td>1</td>\n",
       "      <td>An undetermined number of Bangsamoro Islamic F...</td>\n",
       "      <td>3</td>\n",
       "      <td>Moro conflict</td>\n",
       "      <td>BIFF</td>\n",
       "      <td>Attack</td>\n",
       "      <td>January 2015</td>\n",
       "      <td>Philippines</td>\n",
       "    </tr>\n",
       "    <tr>\n",
       "      <th>2</th>\n",
       "      <td>3</td>\n",
       "      <td>3</td>\n",
       "      <td>Shooting in Basra Governorate left 5 people de...</td>\n",
       "      <td>2</td>\n",
       "      <td>Iraqi Civil War</td>\n",
       "      <td>Unknown</td>\n",
       "      <td>Shooting</td>\n",
       "      <td>January 2015</td>\n",
       "      <td>Iraq</td>\n",
       "    </tr>\n",
       "  </tbody>\n",
       "</table>\n",
       "</div>"
      ],
      "text/plain": [
       "  date    dead                                            details injured  \\\n",
       "0    1  15–25+  A group of militants attacked a crowded bus tr...     10+   \n",
       "1    3       1  An undetermined number of Bangsamoro Islamic F...       3   \n",
       "2    3       3  Shooting in Basra Governorate left 5 people de...       2   \n",
       "\n",
       "                  partOf             perpetrator      type     linkTitle  \\\n",
       "0  Boko Haram insurgency  Boko Haram (suspected)  Shooting  January 2015   \n",
       "1          Moro conflict                    BIFF    Attack  January 2015   \n",
       "2        Iraqi Civil War                 Unknown  Shooting  January 2015   \n",
       "\n",
       "        Country  \n",
       "0      Cameroon  \n",
       "1   Philippines  \n",
       "2          Iraq  "
      ]
     },
     "execution_count": 9,
     "metadata": {},
     "output_type": "execute_result"
    }
   ],
   "source": [
    "df['Country'] = country1[0] #add the new country column\n",
    "df.drop(['location'], axis = 1).head(3) #remove the location column from data frame"
   ]
  },
  {
   "cell_type": "code",
   "execution_count": 130,
   "metadata": {},
   "outputs": [
    {
     "name": "stdout",
     "output_type": "stream",
     "text": [
      "Cameroon\n"
     ]
    }
   ],
   "source": [
    "#Add our reference ID for countries into a data frame from csv file\n",
    "csv_file = '../project/country_ref.csv'\n",
    "csv = pd.read_csv(csv_file)\n",
    "csv.head(3)\n",
    "test_df = df.iloc[:,-1]\n",
    "df_df = pd.DataFrame(test_df)\n",
    "df_df['Country'] = df_df['Country'].str.strip() #rid of white space\n",
    "for j in df_df.iloc[0]:\n",
    "    print(j)"
   ]
  },
  {
   "cell_type": "code",
   "execution_count": 135,
   "metadata": {},
   "outputs": [
    {
     "data": {
      "text/plain": [
       "[]"
      ]
     },
     "execution_count": 135,
     "metadata": {},
     "output_type": "execute_result"
    }
   ],
   "source": [
    "#reference the df DataFrame with the id csv file\n",
    "#make new column as country ID\n",
    "new = []\n",
    "for j in df_df.iloc[0]:\n",
    "    for i in csv:\n",
    "        if i == j:\n",
    "            new.append()\n",
    "new"
   ]
  },
  {
   "cell_type": "code",
   "execution_count": null,
   "metadata": {},
   "outputs": [],
   "source": []
  },
  {
   "cell_type": "code",
   "execution_count": null,
   "metadata": {},
   "outputs": [],
   "source": []
  }
 ],
 "metadata": {
  "kernelspec": {
   "display_name": "Python 3",
   "language": "python",
   "name": "python3"
  },
  "language_info": {
   "codemirror_mode": {
    "name": "ipython",
    "version": 3
   },
   "file_extension": ".py",
   "mimetype": "text/x-python",
   "name": "python",
   "nbconvert_exporter": "python",
   "pygments_lexer": "ipython3",
   "version": "3.7.3"
  }
 },
 "nbformat": 4,
 "nbformat_minor": 2
}
